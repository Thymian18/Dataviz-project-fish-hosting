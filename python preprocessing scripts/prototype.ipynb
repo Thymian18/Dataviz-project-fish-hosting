{
 "cells": [
  {
   "cell_type": "code",
   "execution_count": 1,
   "metadata": {},
   "outputs": [],
   "source": [
    "import pandas as pd\n",
    "import json"
   ]
  },
  {
   "cell_type": "code",
   "execution_count": null,
   "metadata": {},
   "outputs": [
    {
     "name": "stdout",
     "output_type": "stream",
     "text": [
      "dict_keys(['Aal', 'Agone', 'Seeforelle', 'Seesaibling', 'Felchen', 'Äsche', 'Hecht', 'Karpfen', 'Brachsme', 'Alborella', 'Rotauge', 'Schleie', 'Wels', 'Trüsche', 'Barsch', 'Zander'])\n"
     ]
    }
   ],
   "source": [
    "lakes_as_keys = {}\n",
    "with open('../data/commercialFishing.json', 'r') as file:\n",
    "    fish_data = json.load(file)\n",
    "    print(fish_data.keys())\n",
    "\n",
    "    for species, lake_list in fish_data.items():\n",
    "        for lake_dict in lake_list:\n",
    "            curr_lake = lake_dict['Lake']\n",
    "            if not curr_lake in lakes_as_keys:\n",
    "                lakes_as_keys[curr_lake] = {}\n",
    "\n",
    "            for year, num_catches in lake_dict.items():\n",
    "                if year == 'Lake':\n",
    "                    continue\n",
    "                if species not in lakes_as_keys[curr_lake]:\n",
    "                    lakes_as_keys[curr_lake][species] = {}\n",
    "                lakes_as_keys[curr_lake][species][year] = num_catches\n",
    "\n",
    "        \n",
    "#fish_data = json.json.loads() pd.read_json('../data/commercialFishing.json')\n",
    "#print(fish_data.keys)"
   ]
  },
  {
   "cell_type": "code",
   "execution_count": 7,
   "metadata": {},
   "outputs": [
    {
     "name": "stdout",
     "output_type": "stream",
     "text": [
      "dict_keys(['Aal', 'Agone', 'Seeforelle', 'Seesaibling', 'Felchen', 'Äsche', 'Hecht', 'Karpfen', 'Brachsme', 'Alborella', 'Rotauge', 'Schleie', 'Wels', 'Trüsche', 'Barsch', 'Zander'])\n",
      "dict_keys(['2000', '2001', '2002', '2003', '2004', '2005', '2006', '2007', '2008', '2009', '2010', '2011', '2012', '2013', '2014', '2015', '2016', '2017', '2018', '2019', '2020', '2021'])\n"
     ]
    }
   ],
   "source": [
    "print(lakes_as_keys['Genfersee'].keys())\n",
    "print(lakes_as_keys['Genfersee']['Seeforelle'].keys())"
   ]
  },
  {
   "cell_type": "code",
   "execution_count": 8,
   "metadata": {},
   "outputs": [],
   "source": [
    "json_obj = json.dumps(lakes_as_keys)\n",
    "with open('commercialFishing2.json', 'w') as outfile:\n",
    "    outfile.write(json_obj)"
   ]
  },
  {
   "cell_type": "code",
   "execution_count": null,
   "metadata": {},
   "outputs": [],
   "source": []
  }
 ],
 "metadata": {
  "kernelspec": {
   "display_name": "dis",
   "language": "python",
   "name": "python3"
  },
  "language_info": {
   "codemirror_mode": {
    "name": "ipython",
    "version": 3
   },
   "file_extension": ".py",
   "mimetype": "text/x-python",
   "name": "python",
   "nbconvert_exporter": "python",
   "pygments_lexer": "ipython3",
   "version": "3.11.11"
  }
 },
 "nbformat": 4,
 "nbformat_minor": 2
}
